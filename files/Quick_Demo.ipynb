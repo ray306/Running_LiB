{
 "cells": [
  {
   "cell_type": "markdown",
   "metadata": {},
   "source": [
    "## Load dependency files"
   ]
  },
  {
   "cell_type": "code",
   "execution_count": null,
   "metadata": {},
   "outputs": [],
   "source": [
    "from js import fetch\n",
    "\n",
    "for url in ['https://raw.githubusercontent.com/ray306/Running_LiB/main/files/structures.py', \n",
    "            'https://raw.githubusercontent.com/ray306/Running_LiB/main/files/LiB.py', \n",
    "            'https://raw.githubusercontent.com/ray306/Running_LiB/main/files/br-text.txt', \n",
    "            'https://raw.githubusercontent.com/ray306/Running_LiB/main/files/br-phono.txt']:\n",
    "    filename = url.split('/')[-1]\n",
    "    with open(filename, 'w') as f:\n",
    "        res = await fetch(url)\n",
    "        text = await res.text()\n",
    "        f.write(text)"
   ]
  },
  {
   "cell_type": "markdown",
   "metadata": {},
   "source": [
    "## Demo of Segmentation "
   ]
  },
  {
   "cell_type": "code",
   "execution_count": null,
   "metadata": {},
   "outputs": [],
   "source": [
    "import LiB\n",
    "model = LiB.model\n",
    "\n",
    "'Define the train/test corpus'\n",
    "corpus = model.create_corpus('br-text.txt')\n",
    "'New and init a memory'\n",
    "m = model(corpus, lexicon_in=0.25, lexicon_out=0.0001, update_rate=0.2, life=3)\n",
    "\n",
    "'RUN!!!'\n",
    "m.logs['note'] = 0\n",
    "for epoch_id in range(0,201):\n",
    "    m.run(epoch_id, article_length=200, test_interval=100);\n",
    "            \n",
    "print(f\"Time cost for training: {sum(m.logs['time_cost'])//60} min {sum(m.logs['time_cost'])%60:.1f}s\\n\")\n",
    "\n",
    "print('Raw/LiB segmentation:')\n",
    "m.show_result(corpus[:10])"
   ]
  }
 ],
 "metadata": {
  "kernelspec": {
   "display_name": "Python 3 (ipykernel)",
   "language": "python",
   "name": "python3"
  },
  "language_info": {
   "codemirror_mode": {
    "name": "ipython",
    "version": 3
   },
   "file_extension": ".py",
   "mimetype": "text/x-python",
   "name": "python",
   "nbconvert_exporter": "python",
   "pygments_lexer": "ipython3",
   "version": "3.8.3"
  }
 },
 "nbformat": 4,
 "nbformat_minor": 4
}
